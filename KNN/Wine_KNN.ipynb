{
 "cells": [
  {
   "cell_type": "code",
   "execution_count": 1,
   "metadata": {
    "collapsed": true
   },
   "outputs": [],
   "source": [
    "import numpy as np\n",
    "import pandas as pd\n",
    "from sklearn import neighbors, datasets\n",
    "from sklearn.model_selection import train_test_split\n",
    "from sklearn.metrics import classification_report\n",
    "from sklearn.metrics import accuracy_score\n",
    "from mlxtend.feature_selection import SequentialFeatureSelector as SFS"
   ]
  },
  {
   "cell_type": "code",
   "execution_count": 4,
   "metadata": {},
   "outputs": [
    {
     "data": {
      "text/html": [
       "<div>\n",
       "<style>\n",
       "    .dataframe thead tr:only-child th {\n",
       "        text-align: right;\n",
       "    }\n",
       "\n",
       "    .dataframe thead th {\n",
       "        text-align: left;\n",
       "    }\n",
       "\n",
       "    .dataframe tbody tr th {\n",
       "        vertical-align: top;\n",
       "    }\n",
       "</style>\n",
       "<table border=\"1\" class=\"dataframe\">\n",
       "  <thead>\n",
       "    <tr style=\"text-align: right;\">\n",
       "      <th></th>\n",
       "      <th>fixed acidity</th>\n",
       "      <th>volatile acidity</th>\n",
       "      <th>citric acid</th>\n",
       "      <th>residual sugar</th>\n",
       "      <th>chlorides</th>\n",
       "      <th>free sulfur dioxide</th>\n",
       "      <th>total sulfur dioxide</th>\n",
       "      <th>density</th>\n",
       "      <th>pH</th>\n",
       "      <th>sulphates</th>\n",
       "      <th>alcohol</th>\n",
       "      <th>quality</th>\n",
       "    </tr>\n",
       "  </thead>\n",
       "  <tbody>\n",
       "    <tr>\n",
       "      <th>0</th>\n",
       "      <td>7.4</td>\n",
       "      <td>0.70</td>\n",
       "      <td>0.00</td>\n",
       "      <td>1.9</td>\n",
       "      <td>0.076</td>\n",
       "      <td>11.0</td>\n",
       "      <td>34.0</td>\n",
       "      <td>0.9978</td>\n",
       "      <td>3.51</td>\n",
       "      <td>0.56</td>\n",
       "      <td>9.4</td>\n",
       "      <td>5</td>\n",
       "    </tr>\n",
       "    <tr>\n",
       "      <th>1</th>\n",
       "      <td>7.8</td>\n",
       "      <td>0.88</td>\n",
       "      <td>0.00</td>\n",
       "      <td>2.6</td>\n",
       "      <td>0.098</td>\n",
       "      <td>25.0</td>\n",
       "      <td>67.0</td>\n",
       "      <td>0.9968</td>\n",
       "      <td>3.20</td>\n",
       "      <td>0.68</td>\n",
       "      <td>9.8</td>\n",
       "      <td>5</td>\n",
       "    </tr>\n",
       "    <tr>\n",
       "      <th>2</th>\n",
       "      <td>7.8</td>\n",
       "      <td>0.76</td>\n",
       "      <td>0.04</td>\n",
       "      <td>2.3</td>\n",
       "      <td>0.092</td>\n",
       "      <td>15.0</td>\n",
       "      <td>54.0</td>\n",
       "      <td>0.9970</td>\n",
       "      <td>3.26</td>\n",
       "      <td>0.65</td>\n",
       "      <td>9.8</td>\n",
       "      <td>5</td>\n",
       "    </tr>\n",
       "    <tr>\n",
       "      <th>3</th>\n",
       "      <td>11.2</td>\n",
       "      <td>0.28</td>\n",
       "      <td>0.56</td>\n",
       "      <td>1.9</td>\n",
       "      <td>0.075</td>\n",
       "      <td>17.0</td>\n",
       "      <td>60.0</td>\n",
       "      <td>0.9980</td>\n",
       "      <td>3.16</td>\n",
       "      <td>0.58</td>\n",
       "      <td>9.8</td>\n",
       "      <td>6</td>\n",
       "    </tr>\n",
       "    <tr>\n",
       "      <th>4</th>\n",
       "      <td>7.4</td>\n",
       "      <td>0.70</td>\n",
       "      <td>0.00</td>\n",
       "      <td>1.9</td>\n",
       "      <td>0.076</td>\n",
       "      <td>11.0</td>\n",
       "      <td>34.0</td>\n",
       "      <td>0.9978</td>\n",
       "      <td>3.51</td>\n",
       "      <td>0.56</td>\n",
       "      <td>9.4</td>\n",
       "      <td>5</td>\n",
       "    </tr>\n",
       "  </tbody>\n",
       "</table>\n",
       "</div>"
      ],
      "text/plain": [
       "   fixed acidity  volatile acidity  citric acid  residual sugar  chlorides  \\\n",
       "0            7.4              0.70         0.00             1.9      0.076   \n",
       "1            7.8              0.88         0.00             2.6      0.098   \n",
       "2            7.8              0.76         0.04             2.3      0.092   \n",
       "3           11.2              0.28         0.56             1.9      0.075   \n",
       "4            7.4              0.70         0.00             1.9      0.076   \n",
       "\n",
       "   free sulfur dioxide  total sulfur dioxide  density    pH  sulphates  \\\n",
       "0                 11.0                  34.0   0.9978  3.51       0.56   \n",
       "1                 25.0                  67.0   0.9968  3.20       0.68   \n",
       "2                 15.0                  54.0   0.9970  3.26       0.65   \n",
       "3                 17.0                  60.0   0.9980  3.16       0.58   \n",
       "4                 11.0                  34.0   0.9978  3.51       0.56   \n",
       "\n",
       "   alcohol  quality  \n",
       "0      9.4        5  \n",
       "1      9.8        5  \n",
       "2      9.8        5  \n",
       "3      9.8        6  \n",
       "4      9.4        5  "
      ]
     },
     "execution_count": 4,
     "metadata": {},
     "output_type": "execute_result"
    }
   ],
   "source": [
    "wdata= pd.read_csv('C://Users//Payam//Documents//0_MetroC//Z_My_Teaching//KNN//winequality-red.csv')\n",
    "wdata.head()"
   ]
  },
  {
   "cell_type": "code",
   "execution_count": 5,
   "metadata": {},
   "outputs": [
    {
     "data": {
      "text/plain": [
       "quality\n",
       "3     10\n",
       "4     53\n",
       "5    681\n",
       "6    638\n",
       "7    199\n",
       "8     18\n",
       "dtype: int64"
      ]
     },
     "execution_count": 5,
     "metadata": {},
     "output_type": "execute_result"
    }
   ],
   "source": [
    "# looking the balance of the labels\n",
    "wdata.groupby('quality').size()"
   ]
  },
  {
   "cell_type": "code",
   "execution_count": 6,
   "metadata": {},
   "outputs": [
    {
     "data": {
      "text/plain": [
       "Index(['fixed acidity', 'volatile acidity', 'citric acid', 'residual sugar',\n",
       "       'chlorides', 'free sulfur dioxide', 'total sulfur dioxide', 'density',\n",
       "       'pH', 'sulphates', 'alcohol', 'quality'],\n",
       "      dtype='object')"
      ]
     },
     "execution_count": 6,
     "metadata": {},
     "output_type": "execute_result"
    }
   ],
   "source": [
    "# column names\n",
    "col_names = wdata.columns; col_names"
   ]
  },
  {
   "cell_type": "code",
   "execution_count": 7,
   "metadata": {},
   "outputs": [
    {
     "data": {
      "text/plain": [
       "{'alcohol': 10,\n",
       " 'chlorides': 4,\n",
       " 'citric acid': 2,\n",
       " 'density': 7,\n",
       " 'fixed acidity': 0,\n",
       " 'free sulfur dioxide': 5,\n",
       " 'pH': 8,\n",
       " 'quality': 11,\n",
       " 'residual sugar': 3,\n",
       " 'sulphates': 9,\n",
       " 'total sulfur dioxide': 6,\n",
       " 'volatile acidity': 1}"
      ]
     },
     "execution_count": 7,
     "metadata": {},
     "output_type": "execute_result"
    }
   ],
   "source": [
    "# creating a dictionary for changing column names to numbers\n",
    "coldic = {}\n",
    "for i in range(len(col_names)):\n",
    "    coldic[col_names[i]] = i\n",
    "coldic"
   ]
  },
  {
   "cell_type": "code",
   "execution_count": 8,
   "metadata": {},
   "outputs": [
    {
     "data": {
      "text/plain": [
       "Int64Index([0, 1, 2, 3, 4, 5, 6, 7, 8, 9, 10, 11], dtype='int64')"
      ]
     },
     "execution_count": 8,
     "metadata": {},
     "output_type": "execute_result"
    }
   ],
   "source": [
    "# changing column names to numbers\n",
    "wdata = wdata.rename(columns=coldic)\n",
    "wdata.columns"
   ]
  },
  {
   "cell_type": "code",
   "execution_count": 9,
   "metadata": {},
   "outputs": [
    {
     "data": {
      "text/plain": [
       "0     False\n",
       "1     False\n",
       "2     False\n",
       "3     False\n",
       "4     False\n",
       "5     False\n",
       "6     False\n",
       "7     False\n",
       "8     False\n",
       "9     False\n",
       "10    False\n",
       "11    False\n",
       "dtype: bool"
      ]
     },
     "execution_count": 9,
     "metadata": {},
     "output_type": "execute_result"
    }
   ],
   "source": [
    "# checking for null values\n",
    "wdata.isnull().any()"
   ]
  },
  {
   "cell_type": "code",
   "execution_count": 10,
   "metadata": {},
   "outputs": [
    {
     "data": {
      "text/plain": [
       "11\n",
       "5    681\n",
       "6    638\n",
       "7    199\n",
       "dtype: int64"
      ]
     },
     "execution_count": 10,
     "metadata": {},
     "output_type": "execute_result"
    }
   ],
   "source": [
    "# choosing the more frequent labels (for the sake of simplicity)\n",
    "wdata = wdata[wdata[11].isin([5,6,7])]\n",
    "wdata.groupby(11).size()"
   ]
  },
  {
   "cell_type": "code",
   "execution_count": 11,
   "metadata": {
    "collapsed": true
   },
   "outputs": [],
   "source": [
    "# choosing features and target\n",
    "ncols = np.shape(wdata)[1]; ncols\n",
    "features = wdata[wdata.columns[0:ncols-1]]\n",
    "target = wdata[wdata.columns[ncols-1]]"
   ]
  },
  {
   "cell_type": "code",
   "execution_count": null,
   "metadata": {
    "collapsed": true
   },
   "outputs": [],
   "source": [
    "#feat_scaled = pd.DataFrame(sklearn.preprocessing.scale(features))\n",
    "#feat_scaled[6].mean()\n",
    "#feat_scaled[6].std()\n",
    "#features[6].mean()\n",
    "features[6].std()\n",
    "\n",
    "# train-test split\n",
    "#data_train, data_test, target_train, target_test = train_test_split(feat_scaled, target, test_size=0.2, random_state=10)\n"
   ]
  },
  {
   "cell_type": "code",
   "execution_count": 12,
   "metadata": {
    "collapsed": true
   },
   "outputs": [],
   "source": [
    "# train-test split\n",
    "data_train, data_test, target_train, target_test = train_test_split(features, target, test_size=0.2, random_state=10)"
   ]
  },
  {
   "cell_type": "code",
   "execution_count": 13,
   "metadata": {
    "collapsed": true
   },
   "outputs": [],
   "source": [
    "# the KNN model\n",
    "n_neigh = 1\n",
    "knnc = neighbors.KNeighborsClassifier(n_neigh, weights='uniform')\n",
    "knnc.fit(data_train, target_train)\n",
    "pred = knnc.predict(data_test)"
   ]
  },
  {
   "cell_type": "code",
   "execution_count": 17,
   "metadata": {},
   "outputs": [
    {
     "data": {
      "text/plain": [
       "5    135\n",
       "6    133\n",
       "7     36\n",
       "dtype: int64"
      ]
     },
     "execution_count": 17,
     "metadata": {},
     "output_type": "execute_result"
    }
   ],
   "source": [
    "# looking at the predictions compared to true values\n",
    "pd.Series(pred).groupby(pd.Series(pred)).size()"
   ]
  },
  {
   "cell_type": "code",
   "execution_count": 18,
   "metadata": {},
   "outputs": [
    {
     "data": {
      "text/plain": [
       "11\n",
       "5    137\n",
       "6    126\n",
       "7     41\n",
       "Name: 11, dtype: int64"
      ]
     },
     "execution_count": 18,
     "metadata": {},
     "output_type": "execute_result"
    }
   ],
   "source": [
    "target_test.groupby(target_test).size()"
   ]
  },
  {
   "cell_type": "code",
   "execution_count": 16,
   "metadata": {},
   "outputs": [
    {
     "name": "stdout",
     "output_type": "stream",
     "text": [
      "             precision    recall  f1-score   support\n",
      "\n",
      "          5       0.66      0.65      0.65       137\n",
      "          6       0.58      0.61      0.59       126\n",
      "          7       0.47      0.41      0.44        41\n",
      "\n",
      "avg / total       0.60      0.60      0.60       304\n",
      "\n"
     ]
    },
    {
     "data": {
      "text/plain": [
       "0.60197368421052633"
      ]
     },
     "execution_count": 16,
     "metadata": {},
     "output_type": "execute_result"
    }
   ],
   "source": [
    "# evaluating the predictions\n",
    "print(classification_report(target_test, pred))\n",
    "accuracy_score(target_test, pred, normalize=True, sample_weight=None)"
   ]
  },
  {
   "cell_type": "code",
   "execution_count": 19,
   "metadata": {},
   "outputs": [
    {
     "name": "stderr",
     "output_type": "stream",
     "text": [
      "[Parallel(n_jobs=1)]: Done   1 out of   1 | elapsed:    0.0s remaining:    0.0s\n",
      "[Parallel(n_jobs=1)]: Done  11 out of  11 | elapsed:    0.1s finished\n",
      "\n",
      "[2017-07-22 19:56:43] Features: 1/11 -- score: 0.502418611053[Parallel(n_jobs=1)]: Done   1 out of   1 | elapsed:    0.0s remaining:    0.0s\n",
      "[Parallel(n_jobs=1)]: Done  10 out of  10 | elapsed:    0.1s finished\n",
      "\n",
      "[2017-07-22 19:56:43] Features: 2/11 -- score: 0.626084767669[Parallel(n_jobs=1)]: Done   1 out of   1 | elapsed:    0.0s remaining:    0.0s\n",
      "[Parallel(n_jobs=1)]: Done   9 out of   9 | elapsed:    0.1s finished\n",
      "\n",
      "[2017-07-22 19:56:43] Features: 3/11 -- score: 0.668877185826[Parallel(n_jobs=1)]: Done   1 out of   1 | elapsed:    0.0s remaining:    0.0s\n",
      "[Parallel(n_jobs=1)]: Done   8 out of   8 | elapsed:    0.0s finished\n",
      "\n",
      "[2017-07-22 19:56:43] Features: 4/11 -- score: 0.668890818451[Parallel(n_jobs=1)]: Done   1 out of   1 | elapsed:    0.0s remaining:    0.0s\n",
      "[Parallel(n_jobs=1)]: Done   7 out of   7 | elapsed:    0.0s finished\n",
      "\n",
      "[2017-07-22 19:56:44] Features: 5/11 -- score: 0.667220807925[Parallel(n_jobs=1)]: Done   1 out of   1 | elapsed:    0.0s remaining:    0.0s\n",
      "[Parallel(n_jobs=1)]: Done   6 out of   6 | elapsed:    0.0s finished\n",
      "\n",
      "[2017-07-22 19:56:44] Features: 6/11 -- score: 0.667241270801[Parallel(n_jobs=1)]: Done   1 out of   1 | elapsed:    0.0s remaining:    0.0s\n",
      "[Parallel(n_jobs=1)]: Done   5 out of   5 | elapsed:    0.0s finished\n",
      "\n",
      "[2017-07-22 19:56:44] Features: 7/11 -- score: 0.657364811917[Parallel(n_jobs=1)]: Done   1 out of   1 | elapsed:    0.0s remaining:    0.0s\n",
      "[Parallel(n_jobs=1)]: Done   4 out of   4 | elapsed:    0.0s finished\n",
      "\n",
      "[2017-07-22 19:56:44] Features: 8/11 -- score: 0.65155557143[Parallel(n_jobs=1)]: Done   1 out of   1 | elapsed:    0.0s remaining:    0.0s\n",
      "[Parallel(n_jobs=1)]: Done   3 out of   3 | elapsed:    0.0s finished\n",
      "\n",
      "[2017-07-22 19:56:44] Features: 9/11 -- score: 0.64421593444[Parallel(n_jobs=1)]: Done   1 out of   1 | elapsed:    0.0s remaining:    0.0s\n",
      "[Parallel(n_jobs=1)]: Done   2 out of   2 | elapsed:    0.0s finished\n",
      "\n",
      "[2017-07-22 19:56:44] Features: 10/11 -- score: 0.632611533168[Parallel(n_jobs=1)]: Done   1 out of   1 | elapsed:    0.0s remaining:    0.0s\n",
      "[Parallel(n_jobs=1)]: Done   1 out of   1 | elapsed:    0.0s finished\n",
      "\n",
      "[2017-07-22 19:56:44] Features: 11/11 -- score: 0.607997898747"
     ]
    }
   ],
   "source": [
    "# Sequential Feature Selector\n",
    "sfs1 = SFS(knnc, k_features=11, forward=True, floating=False, verbose=2, scoring='accuracy', cv=5)\n",
    "sfs1 = sfs1.fit(np.array(data_train), np.array(target_train))"
   ]
  },
  {
   "cell_type": "code",
   "execution_count": 21,
   "metadata": {},
   "outputs": [
    {
     "data": {
      "text/plain": [
       "{1: {'avg_score': 0.50241861105287566,\n",
       "  'cv_scores': array([ 0.51639344,  0.52459016,  0.52263374,  0.41735537,  0.53112033]),\n",
       "  'feature_idx': (10,)},\n",
       " 2: {'avg_score': 0.62608476766930909,\n",
       "  'cv_scores': array([ 0.57786885,  0.6352459 ,  0.65020576,  0.62809917,  0.63900415]),\n",
       "  'feature_idx': (0, 10)},\n",
       " 3: {'avg_score': 0.668877185825837,\n",
       "  'cv_scores': array([ 0.65983607,  0.6557377 ,  0.69135802,  0.67355372,  0.66390041]),\n",
       "  'feature_idx': (0, 1, 10)},\n",
       " 4: {'avg_score': 0.66889081845104226,\n",
       "  'cv_scores': array([ 0.6557377 ,  0.6557377 ,  0.69135802,  0.66942149,  0.67219917]),\n",
       "  'feature_idx': (0, 1, 10, 7)},\n",
       " 5: {'avg_score': 0.66722080792483485,\n",
       "  'cv_scores': array([ 0.67213115,  0.63934426,  0.69547325,  0.67355372,  0.65560166]),\n",
       "  'feature_idx': (0, 1, 7, 8, 10)},\n",
       " 6: {'avg_score': 0.66724127080122231,\n",
       "  'cv_scores': array([ 0.67622951,  0.63114754,  0.69135802,  0.66942149,  0.66804979]),\n",
       "  'feature_idx': (0, 1, 4, 7, 8, 10)},\n",
       " 7: {'avg_score': 0.65736481191686258,\n",
       "  'cv_scores': array([ 0.69262295,  0.61885246,  0.64197531,  0.65702479,  0.67634855]),\n",
       "  'feature_idx': (0, 1, 2, 4, 7, 8, 10)},\n",
       " 8: {'avg_score': 0.65155557143049925,\n",
       "  'cv_scores': array([ 0.65163934,  0.64754098,  0.66255144,  0.65289256,  0.64315353]),\n",
       "  'feature_idx': (0, 1, 2, 4, 7, 8, 9, 10)},\n",
       " 9: {'avg_score': 0.64421593443974934,\n",
       "  'cv_scores': array([ 0.62704918,  0.62295082,  0.65432099,  0.66115702,  0.65560166]),\n",
       "  'feature_idx': (0, 1, 2, 3, 4, 7, 8, 9, 10)},\n",
       " 10: {'avg_score': 0.63261153316784102,\n",
       "  'cv_scores': array([ 0.66393443,  0.61065574,  0.60082305,  0.67768595,  0.60995851]),\n",
       "  'feature_idx': (0, 1, 2, 3, 4, 5, 7, 8, 9, 10)},\n",
       " 11: {'avg_score': 0.60799789874693044,\n",
       "  'cv_scores': array([ 0.62704918,  0.54918033,  0.60493827,  0.62396694,  0.63485477]),\n",
       "  'feature_idx': (0, 1, 2, 3, 4, 5, 6, 7, 8, 9, 10)}}"
      ]
     },
     "execution_count": 21,
     "metadata": {},
     "output_type": "execute_result"
    }
   ],
   "source": [
    "# scores for subsets of features\n",
    "sfs1.subsets_"
   ]
  },
  {
   "cell_type": "code",
   "execution_count": 24,
   "metadata": {},
   "outputs": [],
   "source": [
    "# choosing the best features\n",
    "data_train_best = data_train[[0, 1, 10, 7]]\n",
    "data_test_best = data_test[[0, 1, 10, 7]]"
   ]
  },
  {
   "cell_type": "code",
   "execution_count": 25,
   "metadata": {
    "collapsed": true
   },
   "outputs": [],
   "source": [
    "# performing KNN with the best features\n",
    "knnc.fit(data_train_best, target_train)\n",
    "pred = knnc.predict(data_test_best)"
   ]
  },
  {
   "cell_type": "code",
   "execution_count": 26,
   "metadata": {},
   "outputs": [
    {
     "name": "stdout",
     "output_type": "stream",
     "text": [
      "             precision    recall  f1-score   support\n",
      "\n",
      "          5       0.71      0.80      0.75       137\n",
      "          6       0.66      0.58      0.62       126\n",
      "          7       0.59      0.54      0.56        41\n",
      "\n",
      "avg / total       0.67      0.67      0.67       304\n",
      "\n"
     ]
    },
    {
     "data": {
      "text/plain": [
       "0.67434210526315785"
      ]
     },
     "execution_count": 26,
     "metadata": {},
     "output_type": "execute_result"
    }
   ],
   "source": [
    "# evaluating KNN with the best features\n",
    "print(classification_report(target_test, pred))\n",
    "accuracy_score(target_test, pred, normalize=True, sample_weight=None)"
   ]
  },
  {
   "cell_type": "code",
   "execution_count": null,
   "metadata": {
    "collapsed": true
   },
   "outputs": [],
   "source": []
  }
 ],
 "metadata": {
  "kernelspec": {
   "display_name": "Python 3",
   "language": "python",
   "name": "python3"
  },
  "language_info": {
   "codemirror_mode": {
    "name": "ipython",
    "version": 3
   },
   "file_extension": ".py",
   "mimetype": "text/x-python",
   "name": "python",
   "nbconvert_exporter": "python",
   "pygments_lexer": "ipython3",
   "version": "3.6.1"
  }
 },
 "nbformat": 4,
 "nbformat_minor": 2
}
