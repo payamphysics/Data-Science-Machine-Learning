{
 "cells": [
  {
   "cell_type": "code",
   "execution_count": 75,
   "metadata": {},
   "outputs": [],
   "source": [
    "import numpy as np\n",
    "import pandas as pd\n",
    "import matplotlib.pyplot as plt\n",
    "from sklearn.datasets import load_iris\n",
    "from sklearn import preprocessing\n",
    "from sklearn.svm import SVC, libsvm\n",
    "from sklearn.cross_validation import train_test_split\n",
    "from sklearn.grid_search import GridSearchCV\n",
    "from sklearn.metrics import classification_report\n",
    "from sklearn.metrics import accuracy_score\n",
    "import random"
   ]
  },
  {
   "cell_type": "code",
   "execution_count": 76,
   "metadata": {},
   "outputs": [
    {
     "data": {
      "text/html": [
       "<div>\n",
       "<style>\n",
       "    .dataframe thead tr:only-child th {\n",
       "        text-align: right;\n",
       "    }\n",
       "\n",
       "    .dataframe thead th {\n",
       "        text-align: left;\n",
       "    }\n",
       "\n",
       "    .dataframe tbody tr th {\n",
       "        vertical-align: top;\n",
       "    }\n",
       "</style>\n",
       "<table border=\"1\" class=\"dataframe\">\n",
       "  <thead>\n",
       "    <tr style=\"text-align: right;\">\n",
       "      <th></th>\n",
       "      <th>PassengerId</th>\n",
       "      <th>Survived</th>\n",
       "      <th>Pclass</th>\n",
       "      <th>Name</th>\n",
       "      <th>Sex</th>\n",
       "      <th>Age</th>\n",
       "      <th>SibSp</th>\n",
       "      <th>Parch</th>\n",
       "      <th>Ticket</th>\n",
       "      <th>Fare</th>\n",
       "      <th>Cabin</th>\n",
       "      <th>Embarked</th>\n",
       "    </tr>\n",
       "  </thead>\n",
       "  <tbody>\n",
       "    <tr>\n",
       "      <th>0</th>\n",
       "      <td>1</td>\n",
       "      <td>0</td>\n",
       "      <td>3</td>\n",
       "      <td>Braund, Mr. Owen Harris</td>\n",
       "      <td>male</td>\n",
       "      <td>22.0</td>\n",
       "      <td>1</td>\n",
       "      <td>0</td>\n",
       "      <td>A/5 21171</td>\n",
       "      <td>7.2500</td>\n",
       "      <td>NaN</td>\n",
       "      <td>S</td>\n",
       "    </tr>\n",
       "    <tr>\n",
       "      <th>1</th>\n",
       "      <td>2</td>\n",
       "      <td>1</td>\n",
       "      <td>1</td>\n",
       "      <td>Cumings, Mrs. John Bradley (Florence Briggs Th...</td>\n",
       "      <td>female</td>\n",
       "      <td>38.0</td>\n",
       "      <td>1</td>\n",
       "      <td>0</td>\n",
       "      <td>PC 17599</td>\n",
       "      <td>71.2833</td>\n",
       "      <td>C85</td>\n",
       "      <td>C</td>\n",
       "    </tr>\n",
       "    <tr>\n",
       "      <th>2</th>\n",
       "      <td>3</td>\n",
       "      <td>1</td>\n",
       "      <td>3</td>\n",
       "      <td>Heikkinen, Miss. Laina</td>\n",
       "      <td>female</td>\n",
       "      <td>26.0</td>\n",
       "      <td>0</td>\n",
       "      <td>0</td>\n",
       "      <td>STON/O2. 3101282</td>\n",
       "      <td>7.9250</td>\n",
       "      <td>NaN</td>\n",
       "      <td>S</td>\n",
       "    </tr>\n",
       "    <tr>\n",
       "      <th>3</th>\n",
       "      <td>4</td>\n",
       "      <td>1</td>\n",
       "      <td>1</td>\n",
       "      <td>Futrelle, Mrs. Jacques Heath (Lily May Peel)</td>\n",
       "      <td>female</td>\n",
       "      <td>35.0</td>\n",
       "      <td>1</td>\n",
       "      <td>0</td>\n",
       "      <td>113803</td>\n",
       "      <td>53.1000</td>\n",
       "      <td>C123</td>\n",
       "      <td>S</td>\n",
       "    </tr>\n",
       "    <tr>\n",
       "      <th>4</th>\n",
       "      <td>5</td>\n",
       "      <td>0</td>\n",
       "      <td>3</td>\n",
       "      <td>Allen, Mr. William Henry</td>\n",
       "      <td>male</td>\n",
       "      <td>35.0</td>\n",
       "      <td>0</td>\n",
       "      <td>0</td>\n",
       "      <td>373450</td>\n",
       "      <td>8.0500</td>\n",
       "      <td>NaN</td>\n",
       "      <td>S</td>\n",
       "    </tr>\n",
       "  </tbody>\n",
       "</table>\n",
       "</div>"
      ],
      "text/plain": [
       "   PassengerId  Survived  Pclass  \\\n",
       "0            1         0       3   \n",
       "1            2         1       1   \n",
       "2            3         1       3   \n",
       "3            4         1       1   \n",
       "4            5         0       3   \n",
       "\n",
       "                                                Name     Sex   Age  SibSp  \\\n",
       "0                            Braund, Mr. Owen Harris    male  22.0      1   \n",
       "1  Cumings, Mrs. John Bradley (Florence Briggs Th...  female  38.0      1   \n",
       "2                             Heikkinen, Miss. Laina  female  26.0      0   \n",
       "3       Futrelle, Mrs. Jacques Heath (Lily May Peel)  female  35.0      1   \n",
       "4                           Allen, Mr. William Henry    male  35.0      0   \n",
       "\n",
       "   Parch            Ticket     Fare Cabin Embarked  \n",
       "0      0         A/5 21171   7.2500   NaN        S  \n",
       "1      0          PC 17599  71.2833   C85        C  \n",
       "2      0  STON/O2. 3101282   7.9250   NaN        S  \n",
       "3      0            113803  53.1000  C123        S  \n",
       "4      0            373450   8.0500   NaN        S  "
      ]
     },
     "execution_count": 76,
     "metadata": {},
     "output_type": "execute_result"
    }
   ],
   "source": [
    "# The training data\n",
    "train = pd.read_csv('C://Users//Payam//Documents//1_Data_Science//Titanic//train.csv')\n",
    "train.head()"
   ]
  },
  {
   "cell_type": "code",
   "execution_count": 77,
   "metadata": {},
   "outputs": [
    {
     "data": {
      "text/html": [
       "<div>\n",
       "<style>\n",
       "    .dataframe thead tr:only-child th {\n",
       "        text-align: right;\n",
       "    }\n",
       "\n",
       "    .dataframe thead th {\n",
       "        text-align: left;\n",
       "    }\n",
       "\n",
       "    .dataframe tbody tr th {\n",
       "        vertical-align: top;\n",
       "    }\n",
       "</style>\n",
       "<table border=\"1\" class=\"dataframe\">\n",
       "  <thead>\n",
       "    <tr style=\"text-align: right;\">\n",
       "      <th></th>\n",
       "      <th>PassengerId</th>\n",
       "      <th>Pclass</th>\n",
       "      <th>Name</th>\n",
       "      <th>Sex</th>\n",
       "      <th>Age</th>\n",
       "      <th>SibSp</th>\n",
       "      <th>Parch</th>\n",
       "      <th>Ticket</th>\n",
       "      <th>Fare</th>\n",
       "      <th>Cabin</th>\n",
       "      <th>Embarked</th>\n",
       "    </tr>\n",
       "  </thead>\n",
       "  <tbody>\n",
       "    <tr>\n",
       "      <th>0</th>\n",
       "      <td>892</td>\n",
       "      <td>3</td>\n",
       "      <td>Kelly, Mr. James</td>\n",
       "      <td>male</td>\n",
       "      <td>34.5</td>\n",
       "      <td>0</td>\n",
       "      <td>0</td>\n",
       "      <td>330911</td>\n",
       "      <td>7.8292</td>\n",
       "      <td>NaN</td>\n",
       "      <td>Q</td>\n",
       "    </tr>\n",
       "    <tr>\n",
       "      <th>1</th>\n",
       "      <td>893</td>\n",
       "      <td>3</td>\n",
       "      <td>Wilkes, Mrs. James (Ellen Needs)</td>\n",
       "      <td>female</td>\n",
       "      <td>47.0</td>\n",
       "      <td>1</td>\n",
       "      <td>0</td>\n",
       "      <td>363272</td>\n",
       "      <td>7.0000</td>\n",
       "      <td>NaN</td>\n",
       "      <td>S</td>\n",
       "    </tr>\n",
       "    <tr>\n",
       "      <th>2</th>\n",
       "      <td>894</td>\n",
       "      <td>2</td>\n",
       "      <td>Myles, Mr. Thomas Francis</td>\n",
       "      <td>male</td>\n",
       "      <td>62.0</td>\n",
       "      <td>0</td>\n",
       "      <td>0</td>\n",
       "      <td>240276</td>\n",
       "      <td>9.6875</td>\n",
       "      <td>NaN</td>\n",
       "      <td>Q</td>\n",
       "    </tr>\n",
       "    <tr>\n",
       "      <th>3</th>\n",
       "      <td>895</td>\n",
       "      <td>3</td>\n",
       "      <td>Wirz, Mr. Albert</td>\n",
       "      <td>male</td>\n",
       "      <td>27.0</td>\n",
       "      <td>0</td>\n",
       "      <td>0</td>\n",
       "      <td>315154</td>\n",
       "      <td>8.6625</td>\n",
       "      <td>NaN</td>\n",
       "      <td>S</td>\n",
       "    </tr>\n",
       "    <tr>\n",
       "      <th>4</th>\n",
       "      <td>896</td>\n",
       "      <td>3</td>\n",
       "      <td>Hirvonen, Mrs. Alexander (Helga E Lindqvist)</td>\n",
       "      <td>female</td>\n",
       "      <td>22.0</td>\n",
       "      <td>1</td>\n",
       "      <td>1</td>\n",
       "      <td>3101298</td>\n",
       "      <td>12.2875</td>\n",
       "      <td>NaN</td>\n",
       "      <td>S</td>\n",
       "    </tr>\n",
       "  </tbody>\n",
       "</table>\n",
       "</div>"
      ],
      "text/plain": [
       "   PassengerId  Pclass                                          Name     Sex  \\\n",
       "0          892       3                              Kelly, Mr. James    male   \n",
       "1          893       3              Wilkes, Mrs. James (Ellen Needs)  female   \n",
       "2          894       2                     Myles, Mr. Thomas Francis    male   \n",
       "3          895       3                              Wirz, Mr. Albert    male   \n",
       "4          896       3  Hirvonen, Mrs. Alexander (Helga E Lindqvist)  female   \n",
       "\n",
       "    Age  SibSp  Parch   Ticket     Fare Cabin Embarked  \n",
       "0  34.5      0      0   330911   7.8292   NaN        Q  \n",
       "1  47.0      1      0   363272   7.0000   NaN        S  \n",
       "2  62.0      0      0   240276   9.6875   NaN        Q  \n",
       "3  27.0      0      0   315154   8.6625   NaN        S  \n",
       "4  22.0      1      1  3101298  12.2875   NaN        S  "
      ]
     },
     "execution_count": 77,
     "metadata": {},
     "output_type": "execute_result"
    }
   ],
   "source": [
    "# Contains only the test features and not the target \n",
    "test = pd.read_csv('C://Users//Payam//Documents//1_Data_Science//Titanic//test.csv')\n",
    "test.head()"
   ]
  },
  {
   "cell_type": "code",
   "execution_count": 78,
   "metadata": {},
   "outputs": [
    {
     "data": {
      "text/html": [
       "<div>\n",
       "<style>\n",
       "    .dataframe thead tr:only-child th {\n",
       "        text-align: right;\n",
       "    }\n",
       "\n",
       "    .dataframe thead th {\n",
       "        text-align: left;\n",
       "    }\n",
       "\n",
       "    .dataframe tbody tr th {\n",
       "        vertical-align: top;\n",
       "    }\n",
       "</style>\n",
       "<table border=\"1\" class=\"dataframe\">\n",
       "  <thead>\n",
       "    <tr style=\"text-align: right;\">\n",
       "      <th></th>\n",
       "      <th>PassengerId</th>\n",
       "      <th>Pclass</th>\n",
       "      <th>Name</th>\n",
       "      <th>Sex</th>\n",
       "      <th>Age</th>\n",
       "      <th>SibSp</th>\n",
       "      <th>Parch</th>\n",
       "      <th>Ticket</th>\n",
       "      <th>Fare</th>\n",
       "      <th>Cabin</th>\n",
       "      <th>Embarked</th>\n",
       "    </tr>\n",
       "  </thead>\n",
       "  <tbody>\n",
       "    <tr>\n",
       "      <th>0</th>\n",
       "      <td>892</td>\n",
       "      <td>3</td>\n",
       "      <td>Kelly, Mr. James</td>\n",
       "      <td>male</td>\n",
       "      <td>34.5</td>\n",
       "      <td>0</td>\n",
       "      <td>0</td>\n",
       "      <td>330911</td>\n",
       "      <td>7.8292</td>\n",
       "      <td>NaN</td>\n",
       "      <td>Q</td>\n",
       "    </tr>\n",
       "    <tr>\n",
       "      <th>1</th>\n",
       "      <td>893</td>\n",
       "      <td>3</td>\n",
       "      <td>Wilkes, Mrs. James (Ellen Needs)</td>\n",
       "      <td>female</td>\n",
       "      <td>47.0</td>\n",
       "      <td>1</td>\n",
       "      <td>0</td>\n",
       "      <td>363272</td>\n",
       "      <td>7.0000</td>\n",
       "      <td>NaN</td>\n",
       "      <td>S</td>\n",
       "    </tr>\n",
       "    <tr>\n",
       "      <th>2</th>\n",
       "      <td>894</td>\n",
       "      <td>2</td>\n",
       "      <td>Myles, Mr. Thomas Francis</td>\n",
       "      <td>male</td>\n",
       "      <td>62.0</td>\n",
       "      <td>0</td>\n",
       "      <td>0</td>\n",
       "      <td>240276</td>\n",
       "      <td>9.6875</td>\n",
       "      <td>NaN</td>\n",
       "      <td>Q</td>\n",
       "    </tr>\n",
       "    <tr>\n",
       "      <th>3</th>\n",
       "      <td>895</td>\n",
       "      <td>3</td>\n",
       "      <td>Wirz, Mr. Albert</td>\n",
       "      <td>male</td>\n",
       "      <td>27.0</td>\n",
       "      <td>0</td>\n",
       "      <td>0</td>\n",
       "      <td>315154</td>\n",
       "      <td>8.6625</td>\n",
       "      <td>NaN</td>\n",
       "      <td>S</td>\n",
       "    </tr>\n",
       "    <tr>\n",
       "      <th>4</th>\n",
       "      <td>896</td>\n",
       "      <td>3</td>\n",
       "      <td>Hirvonen, Mrs. Alexander (Helga E Lindqvist)</td>\n",
       "      <td>female</td>\n",
       "      <td>22.0</td>\n",
       "      <td>1</td>\n",
       "      <td>1</td>\n",
       "      <td>3101298</td>\n",
       "      <td>12.2875</td>\n",
       "      <td>NaN</td>\n",
       "      <td>S</td>\n",
       "    </tr>\n",
       "  </tbody>\n",
       "</table>\n",
       "</div>"
      ],
      "text/plain": [
       "   PassengerId  Pclass                                          Name     Sex  \\\n",
       "0          892       3                              Kelly, Mr. James    male   \n",
       "1          893       3              Wilkes, Mrs. James (Ellen Needs)  female   \n",
       "2          894       2                     Myles, Mr. Thomas Francis    male   \n",
       "3          895       3                              Wirz, Mr. Albert    male   \n",
       "4          896       3  Hirvonen, Mrs. Alexander (Helga E Lindqvist)  female   \n",
       "\n",
       "    Age  SibSp  Parch   Ticket     Fare Cabin Embarked  \n",
       "0  34.5      0      0   330911   7.8292   NaN        Q  \n",
       "1  47.0      1      0   363272   7.0000   NaN        S  \n",
       "2  62.0      0      0   240276   9.6875   NaN        Q  \n",
       "3  27.0      0      0   315154   8.6625   NaN        S  \n",
       "4  22.0      1      1  3101298  12.2875   NaN        S  "
      ]
     },
     "execution_count": 78,
     "metadata": {},
     "output_type": "execute_result"
    }
   ],
   "source": [
    "# Contains only the test features and not the target \n",
    "test = pd.read_csv('C://Users//Payam//Documents//1_Data_Science//Titanic//test.csv')\n",
    "test.head()"
   ]
  },
  {
   "cell_type": "code",
   "execution_count": 79,
   "metadata": {
    "collapsed": true
   },
   "outputs": [],
   "source": [
    "# Contains the survival data for the target set\n",
    "target = pd.read_csv('C://Users//Payam//Documents//1_Data_Science//Titanic//gender_submission.csv')\n",
    "target.head()\n",
    "# Attaching the 'Survived Column to the test set\n",
    "test['Survived'] = target.Survived"
   ]
  },
  {
   "cell_type": "code",
   "execution_count": 80,
   "metadata": {},
   "outputs": [
    {
     "data": {
      "text/html": [
       "<div>\n",
       "<style>\n",
       "    .dataframe thead tr:only-child th {\n",
       "        text-align: right;\n",
       "    }\n",
       "\n",
       "    .dataframe thead th {\n",
       "        text-align: left;\n",
       "    }\n",
       "\n",
       "    .dataframe tbody tr th {\n",
       "        vertical-align: top;\n",
       "    }\n",
       "</style>\n",
       "<table border=\"1\" class=\"dataframe\">\n",
       "  <thead>\n",
       "    <tr style=\"text-align: right;\">\n",
       "      <th></th>\n",
       "      <th>PassengerId</th>\n",
       "      <th>Survived</th>\n",
       "    </tr>\n",
       "  </thead>\n",
       "  <tbody>\n",
       "    <tr>\n",
       "      <th>0</th>\n",
       "      <td>892</td>\n",
       "      <td>0</td>\n",
       "    </tr>\n",
       "    <tr>\n",
       "      <th>1</th>\n",
       "      <td>893</td>\n",
       "      <td>1</td>\n",
       "    </tr>\n",
       "    <tr>\n",
       "      <th>2</th>\n",
       "      <td>894</td>\n",
       "      <td>0</td>\n",
       "    </tr>\n",
       "    <tr>\n",
       "      <th>3</th>\n",
       "      <td>895</td>\n",
       "      <td>0</td>\n",
       "    </tr>\n",
       "    <tr>\n",
       "      <th>4</th>\n",
       "      <td>896</td>\n",
       "      <td>1</td>\n",
       "    </tr>\n",
       "  </tbody>\n",
       "</table>\n",
       "</div>"
      ],
      "text/plain": [
       "   PassengerId  Survived\n",
       "0          892         0\n",
       "1          893         1\n",
       "2          894         0\n",
       "3          895         0\n",
       "4          896         1"
      ]
     },
     "execution_count": 80,
     "metadata": {},
     "output_type": "execute_result"
    }
   ],
   "source": [
    "\n",
    "target.head()"
   ]
  },
  {
   "cell_type": "code",
   "execution_count": 81,
   "metadata": {},
   "outputs": [
    {
     "data": {
      "text/plain": [
       "False"
      ]
     },
     "execution_count": 81,
     "metadata": {},
     "output_type": "execute_result"
    }
   ],
   "source": [
    "# Checks to see if there's any null entries\n",
    "train.Pclass.isnull().any()"
   ]
  },
  {
   "cell_type": "code",
   "execution_count": 82,
   "metadata": {},
   "outputs": [
    {
     "data": {
      "text/plain": [
       "PassengerId    False\n",
       "Survived       False\n",
       "Pclass         False\n",
       "Name           False\n",
       "Sex            False\n",
       "Age             True\n",
       "SibSp          False\n",
       "Parch          False\n",
       "Ticket         False\n",
       "Fare           False\n",
       "Cabin           True\n",
       "Embarked        True\n",
       "dtype: bool"
      ]
     },
     "execution_count": 82,
     "metadata": {},
     "output_type": "execute_result"
    }
   ],
   "source": [
    "train.isnull().any()"
   ]
  },
  {
   "cell_type": "code",
   "execution_count": 83,
   "metadata": {},
   "outputs": [
    {
     "name": "stderr",
     "output_type": "stream",
     "text": [
      "C:\\ProgramData\\Anaconda3\\lib\\site-packages\\ipykernel_launcher.py:2: SettingWithCopyWarning: \n",
      "A value is trying to be set on a copy of a slice from a DataFrame\n",
      "\n",
      "See the caveats in the documentation: http://pandas.pydata.org/pandas-docs/stable/indexing.html#indexing-view-versus-copy\n",
      "  \n"
     ]
    }
   ],
   "source": [
    "# Filling in the null values with the average value of the column (only one of the possible approaches)\n",
    "train.Age[train.Age.isnull()] = train.Age.mean()"
   ]
  },
  {
   "cell_type": "code",
   "execution_count": 84,
   "metadata": {},
   "outputs": [
    {
     "data": {
      "text/plain": [
       "False"
      ]
     },
     "execution_count": 84,
     "metadata": {},
     "output_type": "execute_result"
    }
   ],
   "source": [
    "train.Age.isnull().any()"
   ]
  },
  {
   "cell_type": "code",
   "execution_count": 85,
   "metadata": {},
   "outputs": [
    {
     "data": {
      "text/plain": [
       "Survived\n",
       "0    549\n",
       "1    342\n",
       "dtype: int64"
      ]
     },
     "execution_count": 85,
     "metadata": {},
     "output_type": "execute_result"
    }
   ],
   "source": [
    "# to test the balance of the data\n",
    "train.groupby('Survived').size()\n",
    "# the data is not balanced in terms of the target"
   ]
  },
  {
   "cell_type": "code",
   "execution_count": 86,
   "metadata": {
    "collapsed": true
   },
   "outputs": [],
   "source": [
    "# choosing a balanced training set.\n",
    "train_bal = train.groupby('Survived').apply(lambda x: x.sample(342))"
   ]
  },
  {
   "cell_type": "code",
   "execution_count": 87,
   "metadata": {},
   "outputs": [
    {
     "data": {
      "text/plain": [
       "Survived\n",
       "0    342\n",
       "1    342\n",
       "dtype: int64"
      ]
     },
     "execution_count": 87,
     "metadata": {},
     "output_type": "execute_result"
    }
   ],
   "source": [
    "#train_bal.head()\n",
    "#train_bal.groupby('Survived').size()\n",
    "train_bal.groupby(train_bal.Survived).size()"
   ]
  },
  {
   "cell_type": "code",
   "execution_count": 88,
   "metadata": {},
   "outputs": [
    {
     "data": {
      "text/plain": [
       "PassengerId    False\n",
       "Pclass         False\n",
       "Name           False\n",
       "Sex            False\n",
       "Age             True\n",
       "SibSp          False\n",
       "Parch          False\n",
       "Ticket         False\n",
       "Fare            True\n",
       "Cabin           True\n",
       "Embarked       False\n",
       "Survived       False\n",
       "dtype: bool"
      ]
     },
     "execution_count": 88,
     "metadata": {},
     "output_type": "execute_result"
    }
   ],
   "source": [
    "# Checks to see if there's any null entries\n",
    "test.isnull().any()"
   ]
  },
  {
   "cell_type": "code",
   "execution_count": 89,
   "metadata": {},
   "outputs": [
    {
     "name": "stderr",
     "output_type": "stream",
     "text": [
      "C:\\ProgramData\\Anaconda3\\lib\\site-packages\\ipykernel_launcher.py:2: SettingWithCopyWarning: \n",
      "A value is trying to be set on a copy of a slice from a DataFrame\n",
      "\n",
      "See the caveats in the documentation: http://pandas.pydata.org/pandas-docs/stable/indexing.html#indexing-view-versus-copy\n",
      "  \n"
     ]
    }
   ],
   "source": [
    "# Filling in the null values with the average value of the columns\n",
    "test.Age[test.Age.isnull()] = test.Age.mean()"
   ]
  },
  {
   "cell_type": "code",
   "execution_count": 90,
   "metadata": {},
   "outputs": [
    {
     "data": {
      "text/plain": [
       "array(['male', 'female'], dtype=object)"
      ]
     },
     "execution_count": 90,
     "metadata": {},
     "output_type": "execute_result"
    }
   ],
   "source": [
    "# Looking at the distict levels of the Sex column\n",
    "train_bal.Sex.unique()"
   ]
  },
  {
   "cell_type": "code",
   "execution_count": 91,
   "metadata": {},
   "outputs": [
    {
     "data": {
      "text/plain": [
       "{'female': 100, 'male': 0}"
      ]
     },
     "execution_count": 91,
     "metadata": {},
     "output_type": "execute_result"
    }
   ],
   "source": [
    "# Producing a dictionary to replace levels with numbers\n",
    "keys = {}\n",
    "for i in range(len(train_bal.Sex.unique())):\n",
    "    keys[train_bal.Sex.unique()[i]] = i*100\n",
    "\n",
    "keys"
   ]
  },
  {
   "cell_type": "code",
   "execution_count": 92,
   "metadata": {
    "collapsed": true
   },
   "outputs": [],
   "source": [
    "# Replacing levels with numbers\n",
    "train_bal.Sex.replace(keys, inplace = True)\n",
    "test.Sex.replace(keys, inplace = True)"
   ]
  },
  {
   "cell_type": "code",
   "execution_count": 93,
   "metadata": {},
   "outputs": [
    {
     "data": {
      "text/plain": [
       "array([  0, 100], dtype=int64)"
      ]
     },
     "execution_count": 93,
     "metadata": {},
     "output_type": "execute_result"
    }
   ],
   "source": [
    "# Looking at the distict levels of the Sex column\n",
    "train_bal.Sex.unique()"
   ]
  },
  {
   "cell_type": "code",
   "execution_count": 94,
   "metadata": {
    "collapsed": true
   },
   "outputs": [],
   "source": [
    "# Arranging train and test data to be used\n",
    "data_train_bal = train_bal[['Sex','Age']]\n",
    "target_train_bal = train_bal.Survived\n",
    "data_test = test[['Sex','Age']]\n",
    "target_test = test.Survived"
   ]
  },
  {
   "cell_type": "code",
   "execution_count": 95,
   "metadata": {
    "collapsed": true
   },
   "outputs": [],
   "source": [
    "# Normalizing some of the numerical columns\n",
    "#data_train_bal[['Age','Fare']] = preprocessing.normalize(data_train_bal[['Age','Fare']])\n",
    "#data_test[['Age','Fare']] = preprocessing.normalize(data_test[['Age', 'Fare']])\n"
   ]
  },
  {
   "cell_type": "code",
   "execution_count": 96,
   "metadata": {},
   "outputs": [
    {
     "data": {
      "text/plain": [
       "(684, 2)"
      ]
     },
     "execution_count": 96,
     "metadata": {},
     "output_type": "execute_result"
    }
   ],
   "source": [
    "np.shape(data_train_bal)\n",
    "#np.shape(target_train_bal)\n",
    "#np.shape(data_test)\n",
    "#np.shape(target_test)"
   ]
  },
  {
   "cell_type": "code",
   "execution_count": 119,
   "metadata": {},
   "outputs": [
    {
     "name": "stdout",
     "output_type": "stream",
     "text": [
      "Tuning hyper-parameters for precision\n",
      "Best parameters set found on development set:\n",
      "{'C': 10000.0, 'gamma': 0.001, 'kernel': 'rbf'}\n",
      "Grid scores on development set:\n",
      "0.733 (+/-0.043) for {'C': 1, 'gamma': 1, 'kernel': 'rbf'}\n",
      "0.701 (+/-0.022) for {'C': 1, 'gamma': 0.1, 'kernel': 'rbf'}\n",
      "0.695 (+/-0.053) for {'C': 1, 'gamma': 0.01, 'kernel': 'rbf'}\n",
      "0.665 (+/-0.062) for {'C': 1, 'gamma': 0.001, 'kernel': 'rbf'}\n",
      "0.659 (+/-0.073) for {'C': 1, 'gamma': 0.0001, 'kernel': 'rbf'}\n",
      "0.670 (+/-0.049) for {'C': 1, 'gamma': 1e-05, 'kernel': 'rbf'}\n",
      "0.717 (+/-0.043) for {'C': 10.0, 'gamma': 1, 'kernel': 'rbf'}\n",
      "0.718 (+/-0.043) for {'C': 10.0, 'gamma': 0.1, 'kernel': 'rbf'}\n",
      "0.794 (+/-0.046) for {'C': 10.0, 'gamma': 0.01, 'kernel': 'rbf'}\n",
      "0.756 (+/-0.016) for {'C': 10.0, 'gamma': 0.001, 'kernel': 'rbf'}\n",
      "0.675 (+/-0.074) for {'C': 10.0, 'gamma': 0.0001, 'kernel': 'rbf'}\n",
      "0.643 (+/-0.093) for {'C': 10.0, 'gamma': 1e-05, 'kernel': 'rbf'}\n",
      "0.720 (+/-0.053) for {'C': 100.0, 'gamma': 1, 'kernel': 'rbf'}\n",
      "0.711 (+/-0.040) for {'C': 100.0, 'gamma': 0.1, 'kernel': 'rbf'}\n",
      "0.782 (+/-0.063) for {'C': 100.0, 'gamma': 0.01, 'kernel': 'rbf'}\n",
      "0.799 (+/-0.034) for {'C': 100.0, 'gamma': 0.001, 'kernel': 'rbf'}\n",
      "0.782 (+/-0.008) for {'C': 100.0, 'gamma': 0.0001, 'kernel': 'rbf'}\n",
      "0.673 (+/-0.077) for {'C': 100.0, 'gamma': 1e-05, 'kernel': 'rbf'}\n",
      "0.718 (+/-0.028) for {'C': 1000.0, 'gamma': 1, 'kernel': 'rbf'}\n",
      "0.703 (+/-0.053) for {'C': 1000.0, 'gamma': 0.1, 'kernel': 'rbf'}\n",
      "0.756 (+/-0.063) for {'C': 1000.0, 'gamma': 0.01, 'kernel': 'rbf'}\n",
      "0.803 (+/-0.045) for {'C': 1000.0, 'gamma': 0.001, 'kernel': 'rbf'}\n",
      "0.772 (+/-0.055) for {'C': 1000.0, 'gamma': 0.0001, 'kernel': 'rbf'}\n",
      "0.781 (+/-0.026) for {'C': 1000.0, 'gamma': 1e-05, 'kernel': 'rbf'}\n",
      "0.710 (+/-0.029) for {'C': 10000.0, 'gamma': 1, 'kernel': 'rbf'}\n",
      "0.675 (+/-0.078) for {'C': 10000.0, 'gamma': 0.1, 'kernel': 'rbf'}\n",
      "0.726 (+/-0.063) for {'C': 10000.0, 'gamma': 0.01, 'kernel': 'rbf'}\n",
      "0.806 (+/-0.022) for {'C': 10000.0, 'gamma': 0.001, 'kernel': 'rbf'}\n",
      "0.794 (+/-0.063) for {'C': 10000.0, 'gamma': 0.0001, 'kernel': 'rbf'}\n",
      "0.776 (+/-0.077) for {'C': 10000.0, 'gamma': 1e-05, 'kernel': 'rbf'}\n",
      "0.664 (+/-0.098) for {'C': 100000.0, 'gamma': 1, 'kernel': 'rbf'}\n",
      "0.659 (+/-0.052) for {'C': 100000.0, 'gamma': 0.1, 'kernel': 'rbf'}\n",
      "0.724 (+/-0.028) for {'C': 100000.0, 'gamma': 0.01, 'kernel': 'rbf'}\n",
      "0.782 (+/-0.042) for {'C': 100000.0, 'gamma': 0.001, 'kernel': 'rbf'}\n",
      "0.786 (+/-0.043) for {'C': 100000.0, 'gamma': 0.0001, 'kernel': 'rbf'}\n",
      "0.790 (+/-0.068) for {'C': 100000.0, 'gamma': 1e-05, 'kernel': 'rbf'}\n",
      "Detailed classification report:\n",
      "The model is train_baled on the full development set.\n",
      "The scores are computed on the full evaluation set.\n",
      "             precision    recall  f1-score   support\n",
      "\n",
      "          0       0.93      0.79      0.85       266\n",
      "          1       0.70      0.89      0.79       152\n",
      "\n",
      "avg / total       0.85      0.83      0.83       418\n",
      "\n",
      "Tuning hyper-parameters for recall\n",
      "Best parameters set found on development set:\n",
      "{'C': 10000.0, 'gamma': 0.001, 'kernel': 'rbf'}\n",
      "Grid scores on development set:\n",
      "0.702 (+/-0.057) for {'C': 1, 'gamma': 1, 'kernel': 'rbf'}\n",
      "0.697 (+/-0.031) for {'C': 1, 'gamma': 0.1, 'kernel': 'rbf'}\n",
      "0.689 (+/-0.044) for {'C': 1, 'gamma': 0.01, 'kernel': 'rbf'}\n",
      "0.664 (+/-0.061) for {'C': 1, 'gamma': 0.001, 'kernel': 'rbf'}\n",
      "0.636 (+/-0.062) for {'C': 1, 'gamma': 0.0001, 'kernel': 'rbf'}\n",
      "0.605 (+/-0.026) for {'C': 1, 'gamma': 1e-05, 'kernel': 'rbf'}\n",
      "0.686 (+/-0.065) for {'C': 10.0, 'gamma': 1, 'kernel': 'rbf'}\n",
      "0.716 (+/-0.047) for {'C': 10.0, 'gamma': 0.1, 'kernel': 'rbf'}\n",
      "0.792 (+/-0.046) for {'C': 10.0, 'gamma': 0.01, 'kernel': 'rbf'}\n",
      "0.753 (+/-0.011) for {'C': 10.0, 'gamma': 0.001, 'kernel': 'rbf'}\n",
      "0.671 (+/-0.073) for {'C': 10.0, 'gamma': 0.0001, 'kernel': 'rbf'}\n",
      "0.610 (+/-0.068) for {'C': 10.0, 'gamma': 1e-05, 'kernel': 'rbf'}\n",
      "0.689 (+/-0.064) for {'C': 100.0, 'gamma': 1, 'kernel': 'rbf'}\n",
      "0.708 (+/-0.042) for {'C': 100.0, 'gamma': 0.1, 'kernel': 'rbf'}\n",
      "0.781 (+/-0.062) for {'C': 100.0, 'gamma': 0.01, 'kernel': 'rbf'}\n",
      "0.798 (+/-0.033) for {'C': 100.0, 'gamma': 0.001, 'kernel': 'rbf'}\n",
      "0.781 (+/-0.007) for {'C': 100.0, 'gamma': 0.0001, 'kernel': 'rbf'}\n",
      "0.652 (+/-0.064) for {'C': 100.0, 'gamma': 1e-05, 'kernel': 'rbf'}\n",
      "0.689 (+/-0.050) for {'C': 1000.0, 'gamma': 1, 'kernel': 'rbf'}\n",
      "0.697 (+/-0.057) for {'C': 1000.0, 'gamma': 0.1, 'kernel': 'rbf'}\n",
      "0.754 (+/-0.062) for {'C': 1000.0, 'gamma': 0.01, 'kernel': 'rbf'}\n",
      "0.803 (+/-0.045) for {'C': 1000.0, 'gamma': 0.001, 'kernel': 'rbf'}\n",
      "0.770 (+/-0.054) for {'C': 1000.0, 'gamma': 0.0001, 'kernel': 'rbf'}\n",
      "0.779 (+/-0.027) for {'C': 1000.0, 'gamma': 1e-05, 'kernel': 'rbf'}\n",
      "0.683 (+/-0.056) for {'C': 10000.0, 'gamma': 1, 'kernel': 'rbf'}\n",
      "0.668 (+/-0.079) for {'C': 10000.0, 'gamma': 0.1, 'kernel': 'rbf'}\n",
      "0.725 (+/-0.060) for {'C': 10000.0, 'gamma': 0.01, 'kernel': 'rbf'}\n",
      "0.804 (+/-0.023) for {'C': 10000.0, 'gamma': 0.001, 'kernel': 'rbf'}\n",
      "0.794 (+/-0.062) for {'C': 10000.0, 'gamma': 0.0001, 'kernel': 'rbf'}\n",
      "0.770 (+/-0.073) for {'C': 10000.0, 'gamma': 1e-05, 'kernel': 'rbf'}\n",
      "0.624 (+/-0.110) for {'C': 100000.0, 'gamma': 1, 'kernel': 'rbf'}\n",
      "0.649 (+/-0.064) for {'C': 100000.0, 'gamma': 0.1, 'kernel': 'rbf'}\n",
      "0.724 (+/-0.029) for {'C': 100000.0, 'gamma': 0.01, 'kernel': 'rbf'}\n",
      "0.781 (+/-0.044) for {'C': 100000.0, 'gamma': 0.001, 'kernel': 'rbf'}\n",
      "0.785 (+/-0.043) for {'C': 100000.0, 'gamma': 0.0001, 'kernel': 'rbf'}\n",
      "0.785 (+/-0.064) for {'C': 100000.0, 'gamma': 1e-05, 'kernel': 'rbf'}\n",
      "Detailed classification report:\n",
      "The model is train_baled on the full development set.\n",
      "The scores are computed on the full evaluation set.\n",
      "             precision    recall  f1-score   support\n",
      "\n",
      "          0       0.93      0.79      0.85       266\n",
      "          1       0.70      0.89      0.79       152\n",
      "\n",
      "avg / total       0.85      0.83      0.83       418\n",
      "\n"
     ]
    }
   ],
   "source": [
    "# finding optimum hyperparameters for the SVC method\n",
    "tuned_parameters = [{'kernel': ['rbf'], 'gamma': [1, 1e-1, 1e-2, 1e-3, 1e-4, 1e-5],'C': [1, 1e+1, 1e+2, 1e+3, 1e+4, 1e+5]}]\n",
    "scores = ['precision', 'recall']     \n",
    "\n",
    "for score in scores:\n",
    "    print(\"Tuning hyper-parameters for %s\" % score)\n",
    "\n",
    "    model = GridSearchCV(SVC(C=1), tuned_parameters, cv=None, scoring='%s_weighted' % score)\n",
    "    model.fit(data_train_bal, target_train_bal)\n",
    "\n",
    "    print(\"Best parameters set found on development set:\")\n",
    "    print(model.best_params_)\n",
    "    print(\"Grid scores on development set:\")\n",
    "    for params, mean_score, scores in model.grid_scores_:\n",
    "        print(\"%0.3f (+/-%0.03f) for %r\"% (mean_score, scores.std() * 2, params))\n",
    "        \n",
    "    print(\"Detailed classification report:\")\n",
    "    print(\"The model is train_baled on the full development set.\")\n",
    "    print(\"The scores are computed on the full evaluation set.\")\n",
    "    y_true, y_pred = target_test, model.predict(data_test)\n",
    "    print(classification_report(y_true, y_pred))"
   ]
  },
  {
   "cell_type": "code",
   "execution_count": 97,
   "metadata": {
    "collapsed": true
   },
   "outputs": [],
   "source": [
    "# SVM on the train_bal set and the prediction. Parameters found from the grid search.\n",
    "clf=SVC(C=10000.0,kernel='rbf', gamma=0.001, class_weight=None, probability=True)\n",
    "clf.fit(data_train_bal, target_train_bal)\n",
    "Probabilities=clf.predict_proba(data_test)"
   ]
  },
  {
   "cell_type": "code",
   "execution_count": 98,
   "metadata": {},
   "outputs": [
    {
     "name": "stdout",
     "output_type": "stream",
     "text": [
      "             precision    recall  f1-score   support\n",
      "\n",
      "          0       1.00      0.96      0.98       266\n",
      "          1       0.93      1.00      0.97       152\n",
      "\n",
      "avg / total       0.98      0.97      0.97       418\n",
      "\n"
     ]
    }
   ],
   "source": [
    "# Assessing the performance\n",
    "y_true, y_pred = target_test, clf.predict(data_test)\n",
    "print(classification_report(y_true, y_pred))"
   ]
  },
  {
   "cell_type": "code",
   "execution_count": 99,
   "metadata": {},
   "outputs": [
    {
     "data": {
      "text/plain": [
       "407"
      ]
     },
     "execution_count": 99,
     "metadata": {},
     "output_type": "execute_result"
    }
   ],
   "source": [
    "accuracy_score(y_true, y_pred, normalize=False, sample_weight=None)"
   ]
  },
  {
   "cell_type": "code",
   "execution_count": 100,
   "metadata": {},
   "outputs": [
    {
     "data": {
      "text/plain": [
       "0.97368421052631582"
      ]
     },
     "execution_count": 100,
     "metadata": {},
     "output_type": "execute_result"
    }
   ],
   "source": [
    "accuracy_score(y_true, y_pred, normalize=True, sample_weight=None)"
   ]
  },
  {
   "cell_type": "code",
   "execution_count": 101,
   "metadata": {},
   "outputs": [
    {
     "data": {
      "text/plain": [
       "0    407\n",
       "1     11\n",
       "dtype: int64"
      ]
     },
     "execution_count": 101,
     "metadata": {},
     "output_type": "execute_result"
    }
   ],
   "source": [
    "# Explicit way of assessing the performance\n",
    "diff = [abs(x-y) for (x,y) in zip([list(x).index(max(x)) for x in Probabilities], list(target_test))]\n",
    "#diff\n",
    "# Shows nuber of correct (0) predictions and wrong predictions\n",
    "results = pd.Series(diff).groupby(pd.Series(diff)).size();results"
   ]
  },
  {
   "cell_type": "code",
   "execution_count": 102,
   "metadata": {},
   "outputs": [
    {
     "data": {
      "text/plain": [
       "0.97368421052631582"
      ]
     },
     "execution_count": 102,
     "metadata": {},
     "output_type": "execute_result"
    }
   ],
   "source": [
    "correct = results[0]\n",
    "\n",
    "try:\n",
    "    incorrect = results[1]\n",
    "except KeyError:\n",
    "        incorrect = 0\n",
    "\n",
    "success_rate = correct/(correct+incorrect);success_rate"
   ]
  },
  {
   "cell_type": "code",
   "execution_count": 103,
   "metadata": {},
   "outputs": [
    {
     "name": "stdout",
     "output_type": "stream",
     "text": [
      "407\n"
     ]
    }
   ],
   "source": [
    "print(correct)"
   ]
  },
  {
   "cell_type": "code",
   "execution_count": 104,
   "metadata": {},
   "outputs": [
    {
     "data": {
      "image/png": "[encoded data removed]",
      "text/plain": [
       "<matplotlib.figure.Figure at 0x242b03c89b0>"
      ]
     },
     "metadata": {},
     "output_type": "display_data"
    }
   ],
   "source": [
    "# Probabilities\n",
    "plt.rc('figure', figsize=(20, 12))\n",
    "plt.plot(range(len(Probabilities)), [max(x) for x in Probabilities])\n",
    "plt.plot(range(len(Probabilities)), [min(x) for x in Probabilities])\n",
    "plt.tick_params(labelsize=30)\n",
    "plt.tick_params(labelsize=30, length=15, width = 2, pad = 10)\n",
    "plt.show()"
   ]
  },
  {
   "cell_type": "code",
   "execution_count": 105,
   "metadata": {},
   "outputs": [
    {
     "data": {
      "text/plain": [
       "(10000, 2)"
      ]
     },
     "execution_count": 105,
     "metadata": {},
     "output_type": "execute_result"
    }
   ],
   "source": [
    "xx = np.linspace(0, 90, 100)\n",
    "np.shape(xx)\n",
    "yy = np.linspace(-10, 110, 100)\n",
    "xx, yy = np.meshgrid(xx, yy)\n",
    "Xfull = np.c_[xx.ravel(), yy.ravel()]\n",
    "np.shape(Xfull)"
   ]
  },
  {
   "cell_type": "code",
   "execution_count": 106,
   "metadata": {},
   "outputs": [
    {
     "data": {
      "image/png": "[encoded data removed]",
      "text/plain": [
       "<matplotlib.figure.Figure at 0x242b01872b0>"
      ]
     },
     "metadata": {},
     "output_type": "display_data"
    }
   ],
   "source": [
    "y_pred2 = clf.predict(data_train_bal)\n",
    "# View probabilities\n",
    "probas = clf.predict_proba(Xfull)\n",
    "n_classes = np.unique(y_pred2).size\n",
    "for k in range(n_classes):\n",
    "    plt.subplot(1,n_classes, k + 1)\n",
    "    plt.title(\"Class %d\" % k, fontsize=35)\n",
    "    \n",
    "    imshow_handle = plt.imshow(probas[:, k].reshape((100, 100)), extent=(-10, 110, 0, 90), origin='lower')\n",
    "    plt.xticks(())\n",
    "    plt.yticks(())\n",
    "    idx = (y_pred2 == k)\n",
    "    Xtrain = np.array(data_train_bal)\n",
    "    if idx.any():\n",
    "        plt.scatter(Xtrain[idx, 0], Xtrain[idx, 1], marker='o', c = 'k')\n",
    "    ax = plt.axes([0.15, 0.04, 0.7, 0.05])\n",
    "    plt.title(\"Probability\", fontsize=35)\n",
    "    plt.colorbar(imshow_handle, cax=ax, orientation='horizontal')\n",
    "\n",
    "ax = plt.axes([0.15, 0.04, 0.7, 0.05])\n",
    "font_size = 34 # Adjust as appropriate.\n",
    "plt.title(\"Probability\", fontsize=35)\n",
    "cbar = plt.colorbar(imshow_handle, cax=ax, orientation='horizontal')\n",
    "cbar.ax.tick_params(labelsize=30)\n",
    "plt.show()"
   ]
  },
  {
   "cell_type": "code",
   "execution_count": null,
   "metadata": {
    "collapsed": true
   },
   "outputs": [],
   "source": []
  }
 ],
 "metadata": {
  "kernelspec": {
   "display_name": "Python 3",
   "language": "python",
   "name": "python3"
  },
  "language_info": {
   "codemirror_mode": {
    "name": "ipython",
    "version": 3
   },
   "file_extension": ".py",
   "mimetype": "text/x-python",
   "name": "python",
   "nbconvert_exporter": "python",
   "pygments_lexer": "ipython3",
   "version": "3.6.1"
  }
 },
 "nbformat": 4,
 "nbformat_minor": 2
}
